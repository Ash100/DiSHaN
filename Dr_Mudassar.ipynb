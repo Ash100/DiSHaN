{
  "nbformat": 4,
  "nbformat_minor": 0,
  "metadata": {
    "colab": {
      "provenance": [],
      "authorship_tag": "ABX9TyNEm16JWh7QxrLdtmknT9dB",
      "include_colab_link": true
    },
    "kernelspec": {
      "name": "python3",
      "display_name": "Python 3"
    },
    "language_info": {
      "name": "python"
    }
  },
  "cells": [
    {
      "cell_type": "markdown",
      "metadata": {
        "id": "view-in-github",
        "colab_type": "text"
      },
      "source": [
        "<a href=\"https://colab.research.google.com/github/Ash100/DiSHaN/blob/main/Dr_Mudassar.ipynb\" target=\"_parent\"><img src=\"https://colab.research.google.com/assets/colab-badge.svg\" alt=\"Open In Colab\"/></a>"
      ]
    },
    {
      "cell_type": "markdown",
      "source": [
        "**Note**. This notebook is generated for Dr. Mudassar to analyse the LC-MS Data - Please use it with author consent.<br>\n",
        "Email: ashfaqahmad82@hotmail.com"
      ],
      "metadata": {
        "id": "UKyNxvKDdR-8"
      }
    },
    {
      "cell_type": "code",
      "execution_count": null,
      "metadata": {
        "id": "Z1OQ30QLPqBE"
      },
      "outputs": [],
      "source": [
        "!pip install pyteomics numpy pandas matplotlib\n"
      ]
    },
    {
      "cell_type": "code",
      "source": [
        "from pyteomics import mzxml\n",
        "import pandas as pd\n",
        "import numpy as np\n",
        "\n",
        "filename = '/content/RAR1 (1).mzXML'  # replace with your uploaded filename\n",
        "\n",
        "peaks_data = []\n",
        "\n",
        "with mzxml.read(filename) as reader:\n",
        "    for spectrum in reader:\n",
        "        if spectrum['msLevel'] == 1:  # MS1 spectra\n",
        "            mzs = spectrum['m/z array']\n",
        "            intensities = spectrum['intensity array']\n",
        "            for mz, intensity in zip(mzs, intensities):\n",
        "                peaks_data.append([mz, intensity])\n",
        "\n",
        "# Convert to DataFrame\n",
        "df = pd.DataFrame(peaks_data, columns=['m/z', 'Intensity'])\n",
        "\n",
        "# Bin peaks to merge very close m/z values\n",
        "mz_bin_width = 0.01\n",
        "df['mz_bin'] = (df['m/z'] / mz_bin_width).round() * mz_bin_width\n",
        "agg_df = df.groupby('mz_bin')['Intensity'].sum().reset_index()\n",
        "\n",
        "# Relative quantification\n",
        "agg_df['Relative_Abundance'] = agg_df['Intensity'] / agg_df['Intensity'].sum()\n",
        "\n",
        "# Sort by abundance\n",
        "agg_df = agg_df.sort_values(by='Relative_Abundance', ascending=False)\n",
        "agg_df.head(10)\n"
      ],
      "metadata": {
        "id": "oO9m5Hc2V3fz"
      },
      "execution_count": null,
      "outputs": []
    },
    {
      "cell_type": "code",
      "source": [
        "# Assuming your DataFrame is 'agg_df' with 'mz_bin' and 'Intensity'\n",
        "\n",
        "# Relative percent\n",
        "agg_df['Percent_Composition'] = (agg_df['Intensity'] / agg_df['Intensity'].sum()) * 100\n",
        "\n",
        "# Sort by percent for clarity\n",
        "agg_df = agg_df.sort_values(by='Percent_Composition', ascending=False)\n",
        "\n",
        "agg_df.head(10)\n"
      ],
      "metadata": {
        "id": "FaQQqt6_ZnZA"
      },
      "execution_count": null,
      "outputs": []
    },
    {
      "cell_type": "code",
      "source": [
        "# Save the DataFrame to CSV\n",
        "agg_df.to_csv('RAR1.csv', index=False)\n",
        "print(\"CSV file saved as 'LCMS_percent_composition.csv'\")\n"
      ],
      "metadata": {
        "colab": {
          "base_uri": "https://localhost:8080/"
        },
        "id": "agQN43ila9v4",
        "outputId": "19dc1d14-4654-4e2e-b07f-86db8d9db8c9"
      },
      "execution_count": 18,
      "outputs": [
        {
          "output_type": "stream",
          "name": "stdout",
          "text": [
            "CSV file saved as 'LCMS_percent_composition.csv'\n"
          ]
        }
      ]
    }
  ]
}